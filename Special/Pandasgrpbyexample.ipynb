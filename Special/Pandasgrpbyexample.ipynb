{
 "cells": [
  {
   "cell_type": "code",
   "execution_count": 2,
   "metadata": {
    "collapsed": true
   },
   "outputs": [
    {
     "name": "stderr",
     "output_type": "stream",
     "text": [
      "/Users/Vikas/anaconda3/envs/PythonData/lib/python3.6/importlib/_bootstrap.py:219: RuntimeWarning: numpy.dtype size changed, may indicate binary incompatibility. Expected 96, got 88\n",
      "  return f(*args, **kwds)\n"
     ]
    }
   ],
   "source": [
    "import pandas as pd"
   ]
  },
  {
   "cell_type": "code",
   "execution_count": 3,
   "metadata": {},
   "outputs": [],
   "source": [
    "DF_MWS=pd.read_excel('MWS.xlsx')\n",
    "DF_TTS=pd.read_excel('TTS.xlsx')\n",
    "DF_MWS_LookUP=pd.read_excel('MWS_Stu_Lookup.xlsx')\n",
    "DF_TTS_LookUP=pd.read_excel('TTS_Stu_Lookup.xlsx')"
   ]
  },
  {
   "cell_type": "code",
   "execution_count": 4,
   "metadata": {},
   "outputs": [
    {
     "data": {
      "text/html": [
       "<div>\n",
       "<style scoped>\n",
       "    .dataframe tbody tr th:only-of-type {\n",
       "        vertical-align: middle;\n",
       "    }\n",
       "\n",
       "    .dataframe tbody tr th {\n",
       "        vertical-align: top;\n",
       "    }\n",
       "\n",
       "    .dataframe thead th {\n",
       "        text-align: right;\n",
       "    }\n",
       "</style>\n",
       "<table border=\"1\" class=\"dataframe\">\n",
       "  <thead>\n",
       "    <tr style=\"text-align: right;\">\n",
       "      <th></th>\n",
       "      <th>Batch</th>\n",
       "      <th>StudentId</th>\n",
       "      <th>HomeWork</th>\n",
       "      <th>Score</th>\n",
       "    </tr>\n",
       "  </thead>\n",
       "  <tbody>\n",
       "    <tr>\n",
       "      <th>0</th>\n",
       "      <td>MWS</td>\n",
       "      <td>1</td>\n",
       "      <td>Excel</td>\n",
       "      <td>74</td>\n",
       "    </tr>\n",
       "    <tr>\n",
       "      <th>1</th>\n",
       "      <td>MWS</td>\n",
       "      <td>2</td>\n",
       "      <td>Excel</td>\n",
       "      <td>65</td>\n",
       "    </tr>\n",
       "  </tbody>\n",
       "</table>\n",
       "</div>"
      ],
      "text/plain": [
       "  Batch  StudentId HomeWork  Score\n",
       "0   MWS          1    Excel     74\n",
       "1   MWS          2    Excel     65"
      ]
     },
     "execution_count": 4,
     "metadata": {},
     "output_type": "execute_result"
    }
   ],
   "source": [
    "DF_MWS.head(2)"
   ]
  },
  {
   "cell_type": "code",
   "execution_count": 5,
   "metadata": {},
   "outputs": [
    {
     "data": {
      "text/html": [
       "<div>\n",
       "<style scoped>\n",
       "    .dataframe tbody tr th:only-of-type {\n",
       "        vertical-align: middle;\n",
       "    }\n",
       "\n",
       "    .dataframe tbody tr th {\n",
       "        vertical-align: top;\n",
       "    }\n",
       "\n",
       "    .dataframe thead th {\n",
       "        text-align: right;\n",
       "    }\n",
       "</style>\n",
       "<table border=\"1\" class=\"dataframe\">\n",
       "  <thead>\n",
       "    <tr style=\"text-align: right;\">\n",
       "      <th></th>\n",
       "      <th>Batch</th>\n",
       "      <th>HomeWork</th>\n",
       "      <th>Score</th>\n",
       "    </tr>\n",
       "    <tr>\n",
       "      <th>StudentId</th>\n",
       "      <th></th>\n",
       "      <th></th>\n",
       "      <th></th>\n",
       "    </tr>\n",
       "  </thead>\n",
       "  <tbody>\n",
       "    <tr>\n",
       "      <th>1</th>\n",
       "      <td>MWS</td>\n",
       "      <td>Excel</td>\n",
       "      <td>74</td>\n",
       "    </tr>\n",
       "    <tr>\n",
       "      <th>2</th>\n",
       "      <td>MWS</td>\n",
       "      <td>Excel</td>\n",
       "      <td>65</td>\n",
       "    </tr>\n",
       "  </tbody>\n",
       "</table>\n",
       "</div>"
      ],
      "text/plain": [
       "          Batch HomeWork  Score\n",
       "StudentId                      \n",
       "1           MWS    Excel     74\n",
       "2           MWS    Excel     65"
      ]
     },
     "execution_count": 5,
     "metadata": {},
     "output_type": "execute_result"
    }
   ],
   "source": [
    "DF_MWS.set_index('StudentId').head(2)"
   ]
  },
  {
   "cell_type": "code",
   "execution_count": 6,
   "metadata": {},
   "outputs": [
    {
     "data": {
      "text/html": [
       "<div>\n",
       "<style scoped>\n",
       "    .dataframe tbody tr th:only-of-type {\n",
       "        vertical-align: middle;\n",
       "    }\n",
       "\n",
       "    .dataframe tbody tr th {\n",
       "        vertical-align: top;\n",
       "    }\n",
       "\n",
       "    .dataframe thead th {\n",
       "        text-align: right;\n",
       "    }\n",
       "</style>\n",
       "<table border=\"1\" class=\"dataframe\">\n",
       "  <thead>\n",
       "    <tr style=\"text-align: right;\">\n",
       "      <th></th>\n",
       "      <th>index</th>\n",
       "      <th>Batch</th>\n",
       "      <th>StudentId</th>\n",
       "      <th>HomeWork</th>\n",
       "      <th>Score</th>\n",
       "    </tr>\n",
       "  </thead>\n",
       "  <tbody>\n",
       "    <tr>\n",
       "      <th>0</th>\n",
       "      <td>0</td>\n",
       "      <td>MWS</td>\n",
       "      <td>1</td>\n",
       "      <td>Excel</td>\n",
       "      <td>74</td>\n",
       "    </tr>\n",
       "    <tr>\n",
       "      <th>1</th>\n",
       "      <td>1</td>\n",
       "      <td>MWS</td>\n",
       "      <td>2</td>\n",
       "      <td>Excel</td>\n",
       "      <td>65</td>\n",
       "    </tr>\n",
       "  </tbody>\n",
       "</table>\n",
       "</div>"
      ],
      "text/plain": [
       "   index Batch  StudentId HomeWork  Score\n",
       "0      0   MWS          1    Excel     74\n",
       "1      1   MWS          2    Excel     65"
      ]
     },
     "execution_count": 6,
     "metadata": {},
     "output_type": "execute_result"
    }
   ],
   "source": [
    "#Reset the index, moves the index column as a new column \n",
    "DF_MWS.reset_index().head(2)"
   ]
  },
  {
   "cell_type": "code",
   "execution_count": 7,
   "metadata": {},
   "outputs": [
    {
     "data": {
      "text/html": [
       "<div>\n",
       "<style scoped>\n",
       "    .dataframe tbody tr th:only-of-type {\n",
       "        vertical-align: middle;\n",
       "    }\n",
       "\n",
       "    .dataframe tbody tr th {\n",
       "        vertical-align: top;\n",
       "    }\n",
       "\n",
       "    .dataframe thead th {\n",
       "        text-align: right;\n",
       "    }\n",
       "</style>\n",
       "<table border=\"1\" class=\"dataframe\">\n",
       "  <thead>\n",
       "    <tr style=\"text-align: right;\">\n",
       "      <th></th>\n",
       "      <th>Batch</th>\n",
       "      <th>StudentId</th>\n",
       "      <th>HomeWork</th>\n",
       "      <th>Score</th>\n",
       "    </tr>\n",
       "  </thead>\n",
       "  <tbody>\n",
       "    <tr>\n",
       "      <th>0</th>\n",
       "      <td>MWS</td>\n",
       "      <td>1</td>\n",
       "      <td>Excel</td>\n",
       "      <td>74</td>\n",
       "    </tr>\n",
       "    <tr>\n",
       "      <th>1</th>\n",
       "      <td>MWS</td>\n",
       "      <td>2</td>\n",
       "      <td>Excel</td>\n",
       "      <td>65</td>\n",
       "    </tr>\n",
       "  </tbody>\n",
       "</table>\n",
       "</div>"
      ],
      "text/plain": [
       "  Batch  StudentId HomeWork  Score\n",
       "0   MWS          1    Excel     74\n",
       "1   MWS          2    Excel     65"
      ]
     },
     "execution_count": 7,
     "metadata": {},
     "output_type": "execute_result"
    }
   ],
   "source": [
    "#Reset the index, this time with additional parameter of \"drop=True\" \n",
    "DF_MWS.reset_index(drop=True).head(2)"
   ]
  },
  {
   "cell_type": "code",
   "execution_count": 8,
   "metadata": {},
   "outputs": [
    {
     "data": {
      "text/plain": [
       "<pandas.core.groupby.DataFrameGroupBy object at 0x10dfa89e8>"
      ]
     },
     "execution_count": 8,
     "metadata": {},
     "output_type": "execute_result"
    }
   ],
   "source": [
    "#A group by just creates a iterable group by object that can be iterated over\n",
    "DF_MWS.groupby(['HomeWork'])"
   ]
  },
  {
   "cell_type": "code",
   "execution_count": 9,
   "metadata": {
    "collapsed": true
   },
   "outputs": [
    {
     "data": {
      "text/plain": [
       "[('Excel',   Batch  StudentId HomeWork  Score\n",
       "  0   MWS          1    Excel     74\n",
       "  1   MWS          2    Excel     65\n",
       "  2   MWS          3    Excel     84\n",
       "  3   MWS          4    Excel     79\n",
       "  4   MWS          5    Excel     72\n",
       "  5   MWS          6    Excel     56\n",
       "  6   MWS          7    Excel     82\n",
       "  7   MWS          8    Excel     98\n",
       "  8   MWS          9    Excel     76\n",
       "  9   MWS         10    Excel     89),\n",
       " ('PANDAS',    Batch  StudentId HomeWork  Score\n",
       "  30   MWS          1   PANDAS     69\n",
       "  31   MWS          2   PANDAS    100\n",
       "  32   MWS          3   PANDAS     91\n",
       "  33   MWS          4   PANDAS     62\n",
       "  34   MWS          5   PANDAS     60\n",
       "  35   MWS          6   PANDAS     62\n",
       "  36   MWS          7   PANDAS     71\n",
       "  37   MWS          8   PANDAS     94\n",
       "  38   MWS          9   PANDAS     63\n",
       "  39   MWS         10   PANDAS     89),\n",
       " ('PYTHON',    Batch  StudentId HomeWork  Score\n",
       "  20   MWS          1   PYTHON     76\n",
       "  21   MWS          2   PYTHON     58\n",
       "  22   MWS          3   PYTHON     70\n",
       "  23   MWS          4   PYTHON     80\n",
       "  24   MWS          5   PYTHON     98\n",
       "  25   MWS          6   PYTHON     54\n",
       "  26   MWS          7   PYTHON     67\n",
       "  27   MWS          8   PYTHON     94\n",
       "  28   MWS          9   PYTHON     81\n",
       "  29   MWS         10   PYTHON     81),\n",
       " ('VBA',    Batch  StudentId HomeWork  Score\n",
       "  10   MWS          1      VBA     60\n",
       "  11   MWS          2      VBA     51\n",
       "  12   MWS          3      VBA     89\n",
       "  13   MWS          4      VBA     63\n",
       "  14   MWS          5      VBA     85\n",
       "  15   MWS          6      VBA     52\n",
       "  16   MWS          7      VBA     75\n",
       "  17   MWS          8      VBA     61\n",
       "  18   MWS          9      VBA     69\n",
       "  19   MWS         10      VBA     66)]"
      ]
     },
     "execution_count": 9,
     "metadata": {},
     "output_type": "execute_result"
    }
   ],
   "source": [
    "#Displaying teh contents of Group using List\n",
    "list(DF_MWS.groupby(['HomeWork']))"
   ]
  },
  {
   "cell_type": "code",
   "execution_count": 10,
   "metadata": {
    "collapsed": true
   },
   "outputs": [
    {
     "data": {
      "text/plain": [
       "{'Excel': Int64Index([0, 1, 2, 3, 4, 5, 6, 7, 8, 9], dtype='int64'),\n",
       " 'PANDAS': Int64Index([30, 31, 32, 33, 34, 35, 36, 37, 38, 39], dtype='int64'),\n",
       " 'PYTHON': Int64Index([20, 21, 22, 23, 24, 25, 26, 27, 28, 29], dtype='int64'),\n",
       " 'VBA': Int64Index([10, 11, 12, 13, 14, 15, 16, 17, 18, 19], dtype='int64')}"
      ]
     },
     "execution_count": 10,
     "metadata": {},
     "output_type": "execute_result"
    }
   ],
   "source": [
    "#Display all the Keys and data types in GroupedBy Column\n",
    "DF_MWS.groupby(['HomeWork']).groups"
   ]
  },
  {
   "cell_type": "code",
   "execution_count": 11,
   "metadata": {},
   "outputs": [
    {
     "data": {
      "text/plain": [
       "dict_keys([('MWS', 'Excel'), ('MWS', 'PANDAS'), ('MWS', 'PYTHON'), ('MWS', 'VBA')])"
      ]
     },
     "execution_count": 11,
     "metadata": {},
     "output_type": "execute_result"
    }
   ],
   "source": [
    "#What if there are multiple columns that are grouped and we need to list all keys \n",
    "#and you want only the keys to be displayed\n",
    "DF_MWS.groupby(['Batch','HomeWork']).groups.keys()"
   ]
  },
  {
   "cell_type": "code",
   "execution_count": 12,
   "metadata": {},
   "outputs": [
    {
     "data": {
      "text/html": [
       "<div>\n",
       "<style scoped>\n",
       "    .dataframe tbody tr th:only-of-type {\n",
       "        vertical-align: middle;\n",
       "    }\n",
       "\n",
       "    .dataframe tbody tr th {\n",
       "        vertical-align: top;\n",
       "    }\n",
       "\n",
       "    .dataframe thead th {\n",
       "        text-align: right;\n",
       "    }\n",
       "</style>\n",
       "<table border=\"1\" class=\"dataframe\">\n",
       "  <thead>\n",
       "    <tr style=\"text-align: right;\">\n",
       "      <th></th>\n",
       "      <th>StudentId</th>\n",
       "      <th>Score</th>\n",
       "    </tr>\n",
       "    <tr>\n",
       "      <th>HomeWork</th>\n",
       "      <th></th>\n",
       "      <th></th>\n",
       "    </tr>\n",
       "  </thead>\n",
       "  <tbody>\n",
       "    <tr>\n",
       "      <th>Excel</th>\n",
       "      <td>55</td>\n",
       "      <td>775</td>\n",
       "    </tr>\n",
       "    <tr>\n",
       "      <th>PANDAS</th>\n",
       "      <td>55</td>\n",
       "      <td>761</td>\n",
       "    </tr>\n",
       "    <tr>\n",
       "      <th>PYTHON</th>\n",
       "      <td>55</td>\n",
       "      <td>759</td>\n",
       "    </tr>\n",
       "    <tr>\n",
       "      <th>VBA</th>\n",
       "      <td>55</td>\n",
       "      <td>671</td>\n",
       "    </tr>\n",
       "  </tbody>\n",
       "</table>\n",
       "</div>"
      ],
      "text/plain": [
       "          StudentId  Score\n",
       "HomeWork                  \n",
       "Excel            55    775\n",
       "PANDAS           55    761\n",
       "PYTHON           55    759\n",
       "VBA              55    671"
      ]
     },
     "execution_count": 12,
     "metadata": {},
     "output_type": "execute_result"
    }
   ],
   "source": [
    "#Perform Aggregation on all \"NUMERIC\" columns at once\n",
    "DF_MWS.groupby(['HomeWork']).sum()"
   ]
  },
  {
   "cell_type": "code",
   "execution_count": 13,
   "metadata": {},
   "outputs": [
    {
     "data": {
      "text/html": [
       "<div>\n",
       "<style scoped>\n",
       "    .dataframe tbody tr th:only-of-type {\n",
       "        vertical-align: middle;\n",
       "    }\n",
       "\n",
       "    .dataframe tbody tr th {\n",
       "        vertical-align: top;\n",
       "    }\n",
       "\n",
       "    .dataframe thead th {\n",
       "        text-align: right;\n",
       "    }\n",
       "</style>\n",
       "<table border=\"1\" class=\"dataframe\">\n",
       "  <thead>\n",
       "    <tr style=\"text-align: right;\">\n",
       "      <th></th>\n",
       "      <th>HomeWork</th>\n",
       "      <th>StudentId</th>\n",
       "      <th>Score</th>\n",
       "    </tr>\n",
       "  </thead>\n",
       "  <tbody>\n",
       "    <tr>\n",
       "      <th>0</th>\n",
       "      <td>Excel</td>\n",
       "      <td>55</td>\n",
       "      <td>775</td>\n",
       "    </tr>\n",
       "    <tr>\n",
       "      <th>1</th>\n",
       "      <td>PANDAS</td>\n",
       "      <td>55</td>\n",
       "      <td>761</td>\n",
       "    </tr>\n",
       "    <tr>\n",
       "      <th>2</th>\n",
       "      <td>PYTHON</td>\n",
       "      <td>55</td>\n",
       "      <td>759</td>\n",
       "    </tr>\n",
       "    <tr>\n",
       "      <th>3</th>\n",
       "      <td>VBA</td>\n",
       "      <td>55</td>\n",
       "      <td>671</td>\n",
       "    </tr>\n",
       "  </tbody>\n",
       "</table>\n",
       "</div>"
      ],
      "text/plain": [
       "  HomeWork  StudentId  Score\n",
       "0    Excel         55    775\n",
       "1   PANDAS         55    761\n",
       "2   PYTHON         55    759\n",
       "3      VBA         55    671"
      ]
     },
     "execution_count": 13,
     "metadata": {},
     "output_type": "execute_result"
    }
   ],
   "source": [
    "#What if we want the group but not replace the index column with the Key\n",
    "DF_MWS.groupby(['HomeWork'], as_index=False).sum()"
   ]
  },
  {
   "cell_type": "code",
   "execution_count": 14,
   "metadata": {},
   "outputs": [
    {
     "data": {
      "text/plain": [
       "HomeWork\n",
       "Excel     775\n",
       "PANDAS    761\n",
       "PYTHON    759\n",
       "VBA       671\n",
       "Name: Score, dtype: int64"
      ]
     },
     "execution_count": 14,
     "metadata": {},
     "output_type": "execute_result"
    }
   ],
   "source": [
    "#Perform Aggregation on one column\n",
    "DF_MWS.groupby(['HomeWork'])['Score'].sum()"
   ]
  },
  {
   "cell_type": "code",
   "execution_count": 15,
   "metadata": {},
   "outputs": [
    {
     "data": {
      "text/html": [
       "<div>\n",
       "<style scoped>\n",
       "    .dataframe tbody tr th:only-of-type {\n",
       "        vertical-align: middle;\n",
       "    }\n",
       "\n",
       "    .dataframe tbody tr th {\n",
       "        vertical-align: top;\n",
       "    }\n",
       "\n",
       "    .dataframe thead th {\n",
       "        text-align: right;\n",
       "    }\n",
       "</style>\n",
       "<table border=\"1\" class=\"dataframe\">\n",
       "  <thead>\n",
       "    <tr style=\"text-align: right;\">\n",
       "      <th></th>\n",
       "      <th>Score</th>\n",
       "      <th>StudentId</th>\n",
       "    </tr>\n",
       "    <tr>\n",
       "      <th>HomeWork</th>\n",
       "      <th></th>\n",
       "      <th></th>\n",
       "    </tr>\n",
       "  </thead>\n",
       "  <tbody>\n",
       "    <tr>\n",
       "      <th>Excel</th>\n",
       "      <td>775</td>\n",
       "      <td>55</td>\n",
       "    </tr>\n",
       "    <tr>\n",
       "      <th>PANDAS</th>\n",
       "      <td>761</td>\n",
       "      <td>55</td>\n",
       "    </tr>\n",
       "    <tr>\n",
       "      <th>PYTHON</th>\n",
       "      <td>759</td>\n",
       "      <td>55</td>\n",
       "    </tr>\n",
       "    <tr>\n",
       "      <th>VBA</th>\n",
       "      <td>671</td>\n",
       "      <td>55</td>\n",
       "    </tr>\n",
       "  </tbody>\n",
       "</table>\n",
       "</div>"
      ],
      "text/plain": [
       "          Score  StudentId\n",
       "HomeWork                  \n",
       "Excel       775         55\n",
       "PANDAS      761         55\n",
       "PYTHON      759         55\n",
       "VBA         671         55"
      ]
     },
     "execution_count": 15,
     "metadata": {},
     "output_type": "execute_result"
    }
   ],
   "source": [
    "#Perform Aggregation on more than 1 column. Pass the columns as list\n",
    "DF_MWS.groupby(['HomeWork'])['Score','StudentId'].sum()"
   ]
  },
  {
   "cell_type": "code",
   "execution_count": 16,
   "metadata": {},
   "outputs": [
    {
     "name": "stdout",
     "output_type": "stream",
     "text": [
      "Batch  HomeWork\n",
      "MWS    Excel       775\n",
      "       PANDAS      761\n",
      "       PYTHON      759\n",
      "       VBA         671\n",
      "Name: Score, dtype: int64\n",
      "False\n",
      "True\n"
     ]
    }
   ],
   "source": [
    "srs_abc = DF_MWS.groupby(['Batch','HomeWork'])['Score'].sum() # produces Pandas Series\n",
    "print(srs_abc)\n",
    "print(isinstance(srs_abc,pd.DataFrame))\n",
    "print(isinstance(srs_abc,pd.Series))"
   ]
  },
  {
   "cell_type": "code",
   "execution_count": 17,
   "metadata": {
    "collapsed": true
   },
   "outputs": [
    {
     "data": {
      "text/html": [
       "<div>\n",
       "<style scoped>\n",
       "    .dataframe tbody tr th:only-of-type {\n",
       "        vertical-align: middle;\n",
       "    }\n",
       "\n",
       "    .dataframe tbody tr th {\n",
       "        vertical-align: top;\n",
       "    }\n",
       "\n",
       "    .dataframe thead th {\n",
       "        text-align: right;\n",
       "    }\n",
       "</style>\n",
       "<table border=\"1\" class=\"dataframe\">\n",
       "  <thead>\n",
       "    <tr style=\"text-align: right;\">\n",
       "      <th></th>\n",
       "      <th></th>\n",
       "      <th>Score</th>\n",
       "    </tr>\n",
       "    <tr>\n",
       "      <th>Batch</th>\n",
       "      <th>HomeWork</th>\n",
       "      <th></th>\n",
       "    </tr>\n",
       "  </thead>\n",
       "  <tbody>\n",
       "    <tr>\n",
       "      <th rowspan=\"4\" valign=\"top\">MWS</th>\n",
       "      <th>Excel</th>\n",
       "      <td>775</td>\n",
       "    </tr>\n",
       "    <tr>\n",
       "      <th>PANDAS</th>\n",
       "      <td>761</td>\n",
       "    </tr>\n",
       "    <tr>\n",
       "      <th>PYTHON</th>\n",
       "      <td>759</td>\n",
       "    </tr>\n",
       "    <tr>\n",
       "      <th>VBA</th>\n",
       "      <td>671</td>\n",
       "    </tr>\n",
       "  </tbody>\n",
       "</table>\n",
       "</div>"
      ],
      "text/plain": [
       "                Score\n",
       "Batch HomeWork       \n",
       "MWS   Excel       775\n",
       "      PANDAS      761\n",
       "      PYTHON      759\n",
       "      VBA         671"
      ]
     },
     "execution_count": 17,
     "metadata": {},
     "output_type": "execute_result"
    }
   ],
   "source": [
    "# Produces Pandas DataFrame because of the additional SQUARE Braces\n",
    "DF_MWS.groupby(['Batch','HomeWork'])[['Score']].sum() "
   ]
  },
  {
   "cell_type": "code",
   "execution_count": 18,
   "metadata": {
    "collapsed": true
   },
   "outputs": [
    {
     "data": {
      "text/html": [
       "<div>\n",
       "<style scoped>\n",
       "    .dataframe tbody tr th:only-of-type {\n",
       "        vertical-align: middle;\n",
       "    }\n",
       "\n",
       "    .dataframe tbody tr th {\n",
       "        vertical-align: top;\n",
       "    }\n",
       "\n",
       "    .dataframe thead th {\n",
       "        text-align: right;\n",
       "    }\n",
       "</style>\n",
       "<table border=\"1\" class=\"dataframe\">\n",
       "  <thead>\n",
       "    <tr style=\"text-align: right;\">\n",
       "      <th></th>\n",
       "      <th></th>\n",
       "      <th>Score</th>\n",
       "    </tr>\n",
       "    <tr>\n",
       "      <th>Batch</th>\n",
       "      <th>HomeWork</th>\n",
       "      <th></th>\n",
       "    </tr>\n",
       "  </thead>\n",
       "  <tbody>\n",
       "    <tr>\n",
       "      <th rowspan=\"4\" valign=\"top\">MWS</th>\n",
       "      <th>Excel</th>\n",
       "      <td>775</td>\n",
       "    </tr>\n",
       "    <tr>\n",
       "      <th>PANDAS</th>\n",
       "      <td>761</td>\n",
       "    </tr>\n",
       "    <tr>\n",
       "      <th>PYTHON</th>\n",
       "      <td>759</td>\n",
       "    </tr>\n",
       "    <tr>\n",
       "      <th>VBA</th>\n",
       "      <td>671</td>\n",
       "    </tr>\n",
       "  </tbody>\n",
       "</table>\n",
       "</div>"
      ],
      "text/plain": [
       "                Score\n",
       "Batch HomeWork       \n",
       "MWS   Excel       775\n",
       "      PANDAS      761\n",
       "      PYTHON      759\n",
       "      VBA         671"
      ]
     },
     "execution_count": 18,
     "metadata": {},
     "output_type": "execute_result"
    }
   ],
   "source": [
    "#Is there any other way to aggregate\n",
    "#Columns after the aggregation function\n",
    "DF_MWS.groupby(['Batch','HomeWork']).sum()[['Score']]"
   ]
  },
  {
   "cell_type": "code",
   "execution_count": 19,
   "metadata": {},
   "outputs": [
    {
     "data": {
      "text/html": [
       "<div>\n",
       "<style scoped>\n",
       "    .dataframe tbody tr th:only-of-type {\n",
       "        vertical-align: middle;\n",
       "    }\n",
       "\n",
       "    .dataframe tbody tr th {\n",
       "        vertical-align: top;\n",
       "    }\n",
       "\n",
       "    .dataframe thead th {\n",
       "        text-align: right;\n",
       "    }\n",
       "</style>\n",
       "<table border=\"1\" class=\"dataframe\">\n",
       "  <thead>\n",
       "    <tr style=\"text-align: right;\">\n",
       "      <th></th>\n",
       "      <th></th>\n",
       "      <th>HomeWork</th>\n",
       "      <th>Score</th>\n",
       "    </tr>\n",
       "    <tr>\n",
       "      <th>Batch</th>\n",
       "      <th>HomeWork</th>\n",
       "      <th></th>\n",
       "      <th></th>\n",
       "    </tr>\n",
       "  </thead>\n",
       "  <tbody>\n",
       "    <tr>\n",
       "      <th rowspan=\"4\" valign=\"top\">MWS</th>\n",
       "      <th>Excel</th>\n",
       "      <td>10</td>\n",
       "      <td>775</td>\n",
       "    </tr>\n",
       "    <tr>\n",
       "      <th>PANDAS</th>\n",
       "      <td>10</td>\n",
       "      <td>761</td>\n",
       "    </tr>\n",
       "    <tr>\n",
       "      <th>PYTHON</th>\n",
       "      <td>10</td>\n",
       "      <td>759</td>\n",
       "    </tr>\n",
       "    <tr>\n",
       "      <th>VBA</th>\n",
       "      <td>10</td>\n",
       "      <td>671</td>\n",
       "    </tr>\n",
       "  </tbody>\n",
       "</table>\n",
       "</div>"
      ],
      "text/plain": [
       "                HomeWork  Score\n",
       "Batch HomeWork                 \n",
       "MWS   Excel           10    775\n",
       "      PANDAS          10    761\n",
       "      PYTHON          10    759\n",
       "      VBA             10    671"
      ]
     },
     "execution_count": 19,
     "metadata": {},
     "output_type": "execute_result"
    }
   ],
   "source": [
    "# What if we want to have different aggregations on different columns\n",
    "# And we want to rename columns\n",
    "DF_MWS.groupby(['Batch','HomeWork']).agg({'HomeWork':'count', 'Score':'sum'})"
   ]
  },
  {
   "cell_type": "code",
   "execution_count": null,
   "metadata": {},
   "outputs": [],
   "source": [
    "#Different aggregation on same colum\n"
   ]
  },
  {
   "cell_type": "code",
   "execution_count": 20,
   "metadata": {
    "collapsed": true
   },
   "outputs": [
    {
     "data": {
      "text/html": [
       "<div>\n",
       "<style scoped>\n",
       "    .dataframe tbody tr th:only-of-type {\n",
       "        vertical-align: middle;\n",
       "    }\n",
       "\n",
       "    .dataframe tbody tr th {\n",
       "        vertical-align: top;\n",
       "    }\n",
       "\n",
       "    .dataframe thead th {\n",
       "        text-align: right;\n",
       "    }\n",
       "</style>\n",
       "<table border=\"1\" class=\"dataframe\">\n",
       "  <thead>\n",
       "    <tr style=\"text-align: right;\">\n",
       "      <th></th>\n",
       "      <th></th>\n",
       "      <th>HomeWork_Count</th>\n",
       "      <th>Score_Sum</th>\n",
       "    </tr>\n",
       "    <tr>\n",
       "      <th>Batch</th>\n",
       "      <th>HomeWork</th>\n",
       "      <th></th>\n",
       "      <th></th>\n",
       "    </tr>\n",
       "  </thead>\n",
       "  <tbody>\n",
       "    <tr>\n",
       "      <th rowspan=\"4\" valign=\"top\">MWS</th>\n",
       "      <th>Excel</th>\n",
       "      <td>10</td>\n",
       "      <td>775</td>\n",
       "    </tr>\n",
       "    <tr>\n",
       "      <th>PANDAS</th>\n",
       "      <td>10</td>\n",
       "      <td>761</td>\n",
       "    </tr>\n",
       "    <tr>\n",
       "      <th>PYTHON</th>\n",
       "      <td>10</td>\n",
       "      <td>759</td>\n",
       "    </tr>\n",
       "    <tr>\n",
       "      <th>VBA</th>\n",
       "      <td>10</td>\n",
       "      <td>671</td>\n",
       "    </tr>\n",
       "  </tbody>\n",
       "</table>\n",
       "</div>"
      ],
      "text/plain": [
       "                HomeWork_Count  Score_Sum\n",
       "Batch HomeWork                           \n",
       "MWS   Excel                 10        775\n",
       "      PANDAS                10        761\n",
       "      PYTHON                10        759\n",
       "      VBA                   10        671"
      ]
     },
     "execution_count": 20,
     "metadata": {},
     "output_type": "execute_result"
    }
   ],
   "source": [
    "# What if we want to have different aggregations on different columns\n",
    "# And we want to rename columns\n",
    "DF_MWS.groupby(['Batch','HomeWork']).agg({'HomeWork':'count', 'Score':'sum'}).rename(columns={'HomeWork': 'HomeWork_Count', 'Score': 'Score_Sum'})"
   ]
  },
  {
   "cell_type": "code",
   "execution_count": 28,
   "metadata": {},
   "outputs": [
    {
     "data": {
      "text/plain": [
       "Batch         1\n",
       "StudentId    10\n",
       "HomeWork      4\n",
       "Score        30\n",
       "dtype: int64"
      ]
     },
     "execution_count": 28,
     "metadata": {},
     "output_type": "execute_result"
    }
   ],
   "source": [
    "#How to get count of unique students\n",
    "#Group the dataframe and get the count\n",
    "#DF_MWS.StudentId.nunique()\n",
    "#OR\n",
    "#DF_MWS.nunique()\n",
    "#OR\n",
    "#student_count = len(DF_MWS['StudentId'].unique())"
   ]
  },
  {
   "cell_type": "code",
   "execution_count": 29,
   "metadata": {},
   "outputs": [
    {
     "name": "stdout",
     "output_type": "stream",
     "text": [
      "  Batch  StudentId HomeWork  Score\n",
      "0   MWS          1    Excel     74\n",
      "1   MWS          2    Excel     65\n",
      "   Batch  StudentId HomeWork  Score Batch  StudentId HomeWork  Score\n",
      "38   MWS          9   PANDAS     63   TTS          9   PANDAS     82\n",
      "39   MWS         10   PANDAS     89   TTS         10   PANDAS     96\n"
     ]
    }
   ],
   "source": [
    "#Concatenate DATAFRAMES\n",
    "frames = [DF_MWS, DF_TTS]\n",
    "#How to append to dataframes one below the other\n",
    "result = pd.concat(frames, axis=0) #Axis 0 is default\n",
    "print(result.head(2))\n",
    "#How to append next to each other i.e. sideways similar to joins\n",
    "result = pd.concat(frames, axis=1) #Axis 0 is default\n",
    "print(result.tail(2))"
   ]
  },
  {
   "cell_type": "code",
   "execution_count": 23,
   "metadata": {
    "collapsed": true
   },
   "outputs": [
    {
     "name": "stdout",
     "output_type": "stream",
     "text": [
      "   Batch  StudentId HomeWork  Score Batch  StudentId HomeWork  Score\n",
      "0    MWS          1    Excel     74   TTS          1    Excel     72\n",
      "1    MWS          2    Excel     65   TTS          2    Excel     54\n",
      "2    MWS          3    Excel     84   TTS          3    Excel     65\n",
      "3    MWS          4    Excel     79   TTS          4    Excel     75\n",
      "4    MWS          5    Excel     72   TTS          5    Excel     89\n",
      "5    MWS          6    Excel     56   TTS          6    Excel     80\n",
      "6    MWS          7    Excel     82   TTS          7    Excel     60\n",
      "7    MWS          8    Excel     98   TTS          8    Excel     82\n",
      "8    MWS          9    Excel     76   TTS          9    Excel     78\n",
      "9    MWS         10    Excel     89   TTS         10    Excel     85\n",
      "10   MWS          1      VBA     60   TTS          1      VBA     94\n",
      "11   MWS          2      VBA     51   TTS          2      VBA     91\n",
      "12   MWS          3      VBA     89   TTS          3      VBA     63\n",
      "13   MWS          4      VBA     63   TTS          4      VBA     52\n",
      "14   MWS          5      VBA     85   TTS          5      VBA     87\n",
      "15   MWS          6      VBA     52   TTS          6      VBA     79\n",
      "16   MWS          7      VBA     75   TTS          7      VBA     91\n",
      "17   MWS          8      VBA     61   TTS          8      VBA     50\n",
      "18   MWS          9      VBA     69   TTS          9      VBA     59\n",
      "19   MWS         10      VBA     66   TTS         10      VBA     77\n",
      "20   MWS          1   PYTHON     76   TTS          1   PYTHON     69\n",
      "21   MWS          2   PYTHON     58   TTS          2   PYTHON     95\n",
      "22   MWS          3   PYTHON     70   TTS          3   PYTHON     70\n",
      "23   MWS          4   PYTHON     80   TTS          4   PYTHON     65\n",
      "24   MWS          5   PYTHON     98   TTS          5   PYTHON     84\n",
      "25   MWS          6   PYTHON     54   TTS          6   PYTHON     63\n",
      "26   MWS          7   PYTHON     67   TTS          7   PYTHON     91\n",
      "27   MWS          8   PYTHON     94   TTS          8   PYTHON     69\n",
      "28   MWS          9   PYTHON     81   TTS          9   PYTHON     72\n",
      "29   MWS         10   PYTHON     81   TTS         10   PYTHON     59\n",
      "30   MWS          1   PANDAS     69   TTS          1   PANDAS     90\n",
      "31   MWS          2   PANDAS    100   TTS          2   PANDAS     71\n",
      "32   MWS          3   PANDAS     91   TTS          3   PANDAS     77\n",
      "33   MWS          4   PANDAS     62   TTS          4   PANDAS     71\n",
      "34   MWS          5   PANDAS     60   TTS          5   PANDAS     90\n",
      "35   MWS          6   PANDAS     62   TTS          6   PANDAS     78\n",
      "36   MWS          7   PANDAS     71   TTS          7   PANDAS     83\n",
      "37   MWS          8   PANDAS     94   TTS          8   PANDAS     58\n",
      "38   MWS          9   PANDAS     63   TTS          9   PANDAS     82\n",
      "39   MWS         10   PANDAS     89   TTS         10   PANDAS     96\n"
     ]
    }
   ],
   "source": [
    "#Whats the default column of Join & How to join on specific columns\n",
    "#Concatenate DATAFRAMES\n",
    "frames = [DF_MWS, DF_TTS]\n",
    "#How to append to dataframes one below the other\n",
    "result = pd.concat(frames, axis=1) #Axis 0 is default\n",
    "print(result)\n"
   ]
  },
  {
   "cell_type": "code",
   "execution_count": 24,
   "metadata": {},
   "outputs": [
    {
     "data": {
      "text/html": [
       "<div>\n",
       "<style scoped>\n",
       "    .dataframe tbody tr th:only-of-type {\n",
       "        vertical-align: middle;\n",
       "    }\n",
       "\n",
       "    .dataframe tbody tr th {\n",
       "        vertical-align: top;\n",
       "    }\n",
       "\n",
       "    .dataframe thead th {\n",
       "        text-align: right;\n",
       "    }\n",
       "</style>\n",
       "<table border=\"1\" class=\"dataframe\">\n",
       "  <thead>\n",
       "    <tr style=\"text-align: right;\">\n",
       "      <th></th>\n",
       "      <th>Batch_x</th>\n",
       "      <th>StudentId</th>\n",
       "      <th>Name</th>\n",
       "      <th>Batch_y</th>\n",
       "      <th>HomeWork</th>\n",
       "      <th>Score</th>\n",
       "    </tr>\n",
       "  </thead>\n",
       "  <tbody>\n",
       "    <tr>\n",
       "      <th>0</th>\n",
       "      <td>MWS</td>\n",
       "      <td>1</td>\n",
       "      <td>MWS_STU_1</td>\n",
       "      <td>MWS</td>\n",
       "      <td>Excel</td>\n",
       "      <td>74</td>\n",
       "    </tr>\n",
       "    <tr>\n",
       "      <th>1</th>\n",
       "      <td>MWS</td>\n",
       "      <td>1</td>\n",
       "      <td>MWS_STU_1</td>\n",
       "      <td>MWS</td>\n",
       "      <td>VBA</td>\n",
       "      <td>60</td>\n",
       "    </tr>\n",
       "  </tbody>\n",
       "</table>\n",
       "</div>"
      ],
      "text/plain": [
       "  Batch_x  StudentId       Name Batch_y HomeWork  Score\n",
       "0     MWS          1  MWS_STU_1     MWS    Excel     74\n",
       "1     MWS          1  MWS_STU_1     MWS      VBA     60"
      ]
     },
     "execution_count": 24,
     "metadata": {},
     "output_type": "execute_result"
    }
   ],
   "source": [
    "#If concatenate can join two dataframes side by side and one below another then why need merge\n",
    "Merged_MWS_DF = pd.merge(DF_MWS_LookUP, DF_MWS, how=\"inner\", on=[\"StudentId\", \"StudentId\"])\n",
    "Merged_MWS_DF.head(2)"
   ]
  },
  {
   "cell_type": "code",
   "execution_count": 25,
   "metadata": {},
   "outputs": [
    {
     "ename": "NameError",
     "evalue": "name 'total_budget' is not defined",
     "output_type": "error",
     "traceback": [
      "\u001b[0;31m---------------------------------------------------------------------------\u001b[0m",
      "\u001b[0;31mNameError\u001b[0m                                 Traceback (most recent call last)",
      "\u001b[0;32m<ipython-input-25-fe0a6eb3b5e5>\u001b[0m in \u001b[0;36m<module>\u001b[0;34m()\u001b[0m\n\u001b[1;32m      3\u001b[0m summary = pd.DataFrame({\"Total Students\": [student_count], \n\u001b[1;32m      4\u001b[0m                                  \u001b[0;34m\"Total Homeworks\"\u001b[0m\u001b[0;34m:\u001b[0m \u001b[0;34m[\u001b[0m\u001b[0mstudent_count\u001b[0m\u001b[0;34m]\u001b[0m\u001b[0;34m,\u001b[0m\u001b[0;34m\u001b[0m\u001b[0m\n\u001b[0;32m----> 5\u001b[0;31m                                  \"Average Scores\": [total_budget]})\n\u001b[0m",
      "\u001b[0;31mNameError\u001b[0m: name 'total_budget' is not defined"
     ]
    }
   ],
   "source": [
    "#Create a new frame from all aggregations\n",
    "\n",
    "summary = pd.DataFrame({\"Total Students\": [student_count], \n",
    "                                 \"Total Homeworks\": [student_count], \n",
    "                                 \"Average Scores\": [total_budget]})"
   ]
  }
 ],
 "metadata": {
  "kernelspec": {
   "display_name": "Python 3",
   "language": "python",
   "name": "python3"
  },
  "language_info": {
   "codemirror_mode": {
    "name": "ipython",
    "version": 3
   },
   "file_extension": ".py",
   "mimetype": "text/x-python",
   "name": "python",
   "nbconvert_exporter": "python",
   "pygments_lexer": "ipython3",
   "version": "3.6.4"
  }
 },
 "nbformat": 4,
 "nbformat_minor": 2
}
